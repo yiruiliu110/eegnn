{
 "cells": [
  {
   "cell_type": "code",
   "execution_count": 1,
   "metadata": {
    "collapsed": true
   },
   "outputs": [],
   "source": [
    "import networkx as nx"
   ]
  },
  {
   "cell_type": "code",
   "execution_count": 2,
   "outputs": [
    {
     "data": {
      "text/plain": "<Figure size 432x288 with 1 Axes>",
      "image/png": "[encoded data removed]"
     },
     "metadata": {},
     "output_type": "display_data"
    }
   ],
   "source": [
    "import matplotlib.pyplot as plt\n",
    "import networkx as nx\n",
    "import PIL\n",
    "\n",
    "# Image URLs for graph nodes\n",
    "icons = {\n",
    "    \"router\": \"tab:blue\",\n",
    "    \"switch\": \"tab:red\",\n",
    "    \"PC\": \"tab:orange\",\n",
    "}\n",
    "\n",
    "# Load images\n",
    "images = icons\n",
    "# Generate the computer network graph\n",
    "G = nx.Graph()\n",
    "\n",
    "G.add_node(\"router\", node_color=images[\"router\"])\n",
    "for i in range(1, 4):\n",
    "    G.add_node(f\"switch_{i}\", node_color=images[\"switch\"])\n",
    "    for j in range(1, 4):\n",
    "        G.add_node(\"PC_\" + str(i) + \"_\" + str(j), node_color=images[\"PC\"])\n",
    "\n",
    "G.add_edge(\"router\", \"switch_1\")\n",
    "G.add_edge(\"router\", \"switch_2\")\n",
    "G.add_edge(\"router\", \"switch_3\")\n",
    "for u in range(1, 4):\n",
    "    for v in range(1, 4):\n",
    "        G.add_edge(\"switch_\" + str(u), \"PC_\" + str(u) + \"_\" + str(v))\n",
    "\n",
    "# Get a reproducible layout and create figure\n",
    "pos = nx.spring_layout(G, seed=1734289230)\n",
    "fig, ax = plt.subplots()\n",
    "\n",
    "\n",
    "color_list = [\"tab:orange\",\n",
    "             \"tab:green\", \"tab:blue\", \"tab:blue\", \"tab:blue\",\n",
    "              \"tab:green\", \"tab:blue\", \"tab:blue\", \"tab:blue\",\n",
    "             \"tab:green\", \"tab:blue\", \"tab:blue\", \"tab:blue\",]\n",
    "\n",
    "# some math labels\n",
    "labels = {key:'' for key in G.nodes}\n",
    "labels['router'] = r\"$1$\"\n",
    "labels['switch_2'] = r\"$2$\"\n",
    "\n",
    "\n",
    "nx.draw_networkx(G, pos, with_labels=False,  node_color=color_list, )\n",
    "\n",
    "nx.draw_networkx_labels(G, pos, labels,   )\n",
    "plt.box(False)\n",
    "plt.savefig(\"output0.jpg\")\n",
    "plt.show()"
   ],
   "metadata": {
    "collapsed": false,
    "pycharm": {
     "name": "#%%\n"
    }
   }
  },
  {
   "cell_type": "code",
   "execution_count": 3,
   "outputs": [
    {
     "data": {
      "text/plain": "<Figure size 432x288 with 1 Axes>",
      "image/png": "[encoded data removed]"
     },
     "metadata": {},
     "output_type": "display_data"
    }
   ],
   "source": [
    "import matplotlib.pyplot as plt\n",
    "import networkx as nx\n",
    "import PIL\n",
    "\n",
    "\n",
    "\n",
    "\n",
    "# Image URLs for graph nodes\n",
    "icons = {\n",
    "    \"router\": \"tab:blue\",\n",
    "    \"switch\": \"tab:red\",\n",
    "    \"PC\": \"tab:orange\",\n",
    "}\n",
    "\n",
    "# Load images\n",
    "images = icons\n",
    "# Generate the computer network graph\n",
    "G = nx.MultiDiGraph()\n",
    "\n",
    "G.add_node(\"router\", node_color=images[\"router\"])\n",
    "for i in range(1, 4):\n",
    "    G.add_node(f\"switch_{i}\", node_color=images[\"switch\"])\n",
    "    for j in range(1, 4):\n",
    "        G.add_node(\"PC_\" + str(i) + \"_\" + str(j), node_color=images[\"PC\"])\n",
    "\n",
    "G.add_edge(\"router\", \"switch_1\")\n",
    "G.add_edge(\"router\", \"switch_2\")\n",
    "G.add_edge(\"router\", \"switch_3\")\n",
    "for u in range(1, 4):\n",
    "    for v in range(1, 4):\n",
    "        G.add_edge(\"switch_\" + str(u), \"PC_\" + str(u) + \"_\" + str(v))\n",
    "\n",
    "# Get a reproducible layout and create figure\n",
    "\n",
    "fig, ax = plt.subplots()\n",
    "\n",
    "\n",
    "color_list = [\"tab:orange\",\n",
    "             \"tab:green\", \"tab:blue\", \"tab:blue\", \"tab:blue\",\n",
    "              \"tab:green\", \"tab:blue\", \"tab:blue\", \"tab:blue\",\n",
    "             \"tab:green\", \"tab:blue\", \"tab:blue\", \"tab:blue\",]\n",
    "\n",
    "# some math labels\n",
    "labels = {key:'' for key in G.nodes}\n",
    "labels['router'] = r\"$1$\"\n",
    "labels['switch_2'] = r\"$2$\"\n",
    "\n",
    "\n",
    "nx.draw_networkx_nodes(G, pos, node_color=color_list, )\n",
    "\n",
    "nx.draw_networkx_labels(G, pos, labels,   )\n",
    "nx.draw_networkx_edges(G, pos, G.edges, arrows=False, )\n",
    "\n",
    "G.add_node('router_1', pos=pos['router'])\n",
    "pos['router_1'] = pos['router']\n",
    "G.add_node('router_2', pos=pos['router'])\n",
    "pos['router_2'] = pos['router']\n",
    "G.add_node('router_3', pos=pos['router'])\n",
    "pos['router_3'] = pos['router']\n",
    "\n",
    "edgelist = [('router', 'router_1'), ('router_1', 'router_2'), ('router_2', 'router_3'),\n",
    "           ('switch_2','switch_2'),('switch_1','switch_1'), ('switch_3','switch_3'),\n",
    "           ('switch_2','router'),('switch_1','router'), ('switch_3','router')]\n",
    "G.add_edges_from(edgelist)\n",
    "\n",
    "\n",
    "# Draw the newly added self-loops with different formatting\n",
    "nx.draw_networkx_nodes(G, pos, nodelist=['router_1'], node_size=1200, node_color='none', edgecolors=\"red\")\n",
    "nx.draw_networkx_nodes(G, pos, nodelist=['router_1'], node_size=2400, node_color='none', edgecolors=\"red\")\n",
    "\n",
    "nx.draw_networkx_nodes(G, pos, nodelist=['switch_1'], node_size=1200, node_color='none', edgecolors=\"red\")\n",
    "\n",
    "nx.draw_networkx_nodes(G, pos, nodelist=['switch_2'], node_size=1200, node_color='none', edgecolors=\"red\")\n",
    "nx.draw_networkx_nodes(G, pos, nodelist=['switch_3'], node_size=1200, node_color='none', edgecolors=\"red\")\n",
    "\n",
    "nx.draw_networkx_edges(G, pos, edgelist=edgelist[6::], edge_color='red', arrowstyle='-',\n",
    "                       connectionstyle='arc3, rad = 0.5')\n",
    "plt.box(False)\n",
    "plt.savefig(\"output1.jpg\")\n",
    "plt.show()"
   ],
   "metadata": {
    "collapsed": false,
    "pycharm": {
     "name": "#%%\n"
    }
   }
  }
 ],
 "metadata": {
  "kernelspec": {
   "display_name": "Python 3",
   "language": "python",
   "name": "python3"
  },
  "language_info": {
   "codemirror_mode": {
    "name": "ipython",
    "version": 2
   },
   "file_extension": ".py",
   "mimetype": "text/x-python",
   "name": "python",
   "nbconvert_exporter": "python",
   "pygments_lexer": "ipython2",
   "version": "2.7.6"
  }
 },
 "nbformat": 4,
 "nbformat_minor": 0
}